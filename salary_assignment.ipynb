{
 "cells": [
  {
   "cell_type": "code",
   "execution_count": null,
   "id": "3c10c104",
   "metadata": {},
   "outputs": [
    {
     "name": "stdout",
     "output_type": "stream",
     "text": [
      "Sample payroll data created as construction_payroll.csv\n"
     ]
    },
    {
     "data": {
      "text/html": [
       "<div>\n",
       "<style scoped>\n",
       "    .dataframe tbody tr th:only-of-type {\n",
       "        vertical-align: middle;\n",
       "    }\n",
       "\n",
       "    .dataframe tbody tr th {\n",
       "        vertical-align: top;\n",
       "    }\n",
       "\n",
       "    .dataframe thead th {\n",
       "        text-align: right;\n",
       "    }\n",
       "</style>\n",
       "<table border=\"1\" class=\"dataframe\">\n",
       "  <thead>\n",
       "    <tr style=\"text-align: right;\">\n",
       "      <th></th>\n",
       "      <th>worker_id</th>\n",
       "      <th>first_name</th>\n",
       "      <th>last_name</th>\n",
       "      <th>position</th>\n",
       "      <th>hourly_rate</th>\n",
       "      <th>hours_worked</th>\n",
       "      <th>overtime_hours</th>\n",
       "      <th>gross_pay</th>\n",
       "    </tr>\n",
       "  </thead>\n",
       "  <tbody>\n",
       "    <tr>\n",
       "      <th>0</th>\n",
       "      <td>HRC-1000</td>\n",
       "      <td>First_0</td>\n",
       "      <td>Last_0</td>\n",
       "      <td>Carpenter</td>\n",
       "      <td>33.08</td>\n",
       "      <td>39</td>\n",
       "      <td>10</td>\n",
       "      <td>1786.320</td>\n",
       "    </tr>\n",
       "    <tr>\n",
       "      <th>1</th>\n",
       "      <td>HRC-1001</td>\n",
       "      <td>First_1</td>\n",
       "      <td>Last_1</td>\n",
       "      <td>Carpenter</td>\n",
       "      <td>20.44</td>\n",
       "      <td>42</td>\n",
       "      <td>4</td>\n",
       "      <td>981.120</td>\n",
       "    </tr>\n",
       "    <tr>\n",
       "      <th>2</th>\n",
       "      <td>HRC-1002</td>\n",
       "      <td>First_2</td>\n",
       "      <td>Last_2</td>\n",
       "      <td>Plumber</td>\n",
       "      <td>25.19</td>\n",
       "      <td>36</td>\n",
       "      <td>6</td>\n",
       "      <td>1133.550</td>\n",
       "    </tr>\n",
       "    <tr>\n",
       "      <th>3</th>\n",
       "      <td>HRC-1003</td>\n",
       "      <td>First_3</td>\n",
       "      <td>Last_3</td>\n",
       "      <td>Carpenter</td>\n",
       "      <td>21.67</td>\n",
       "      <td>45</td>\n",
       "      <td>14</td>\n",
       "      <td>1430.220</td>\n",
       "    </tr>\n",
       "    <tr>\n",
       "      <th>4</th>\n",
       "      <td>HRC-1004</td>\n",
       "      <td>First_4</td>\n",
       "      <td>Last_4</td>\n",
       "      <td>Plumber</td>\n",
       "      <td>19.43</td>\n",
       "      <td>45</td>\n",
       "      <td>5</td>\n",
       "      <td>1020.075</td>\n",
       "    </tr>\n",
       "  </tbody>\n",
       "</table>\n",
       "</div>"
      ],
      "text/plain": [
       "  worker_id first_name last_name   position  hourly_rate  hours_worked  \\\n",
       "0  HRC-1000    First_0    Last_0  Carpenter        33.08            39   \n",
       "1  HRC-1001    First_1    Last_1  Carpenter        20.44            42   \n",
       "2  HRC-1002    First_2    Last_2    Plumber        25.19            36   \n",
       "3  HRC-1003    First_3    Last_3  Carpenter        21.67            45   \n",
       "4  HRC-1004    First_4    Last_4    Plumber        19.43            45   \n",
       "\n",
       "   overtime_hours  gross_pay  \n",
       "0              10   1786.320  \n",
       "1               4    981.120  \n",
       "2               6   1133.550  \n",
       "3              14   1430.220  \n",
       "4               5   1020.075  "
      ]
     },
     "metadata": {},
     "output_type": "display_data"
    }
   ],
   "source": [
    "import pandas as pd\n",
    "import numpy as np\n",
    "\n",
    "# this code generate a realistic construction payroll data\n",
    "data = {\n",
    "    \"worker_id\": [\"HRC-\" + str(1000+i) for i in range(50)],\n",
    "    \"first_name\": [f\"First_{i}\" for i in range(50)],\n",
    "    \"last_name\": [f\"Last_{i}\" for i in range(50)],\n",
    "    \"position\": np.random.choice([\"Carpenter\", \"Electrician\", \"Plumber\", \"Foreman\"], 50),\n",
    "    \"hourly_rate\": np.round(np.random.normal(25, 5, 50), 2),\n",
    "    \"hours_worked\": np.random.randint(30, 50, 50),\n",
    "    \"overtime_hours\": np.random.randint(0, 20, 50)\n",
    "}\n",
    "\n",
    "df = pd.DataFrame(data)\n",
    "df[\"gross_pay\"] = (df[\"hourly_rate\"] * df[\"hours_worked\"] + \n",
    "                   df[\"overtime_hours\"] * 1.5 * df[\"hourly_rate\"])\n",
    "\n",
    "# here am Saving it to a CSV file\n",
    "df.to_csv(\"construction_payroll.csv\", index=False)\n",
    "print(\"Sample payroll data created as construction_payroll.csv\")\n",
    "display(df.head())"
   ]
  },
  {
   "cell_type": "code",
   "execution_count": 7,
   "id": "8213280a",
   "metadata": {},
   "outputs": [
    {
     "data": {
      "text/plain": [
       "{'worker_id': 'HRC-1001',\n",
       " 'first_name': 'First_1',\n",
       " 'last_name': 'Last_1',\n",
       " 'position': 'Carpenter',\n",
       " 'hourly_rate': 20.44,\n",
       " 'hours_worked': 42,\n",
       " 'overtime_hours': 4,\n",
       " 'gross_pay': 981.12}"
      ]
     },
     "execution_count": 7,
     "metadata": {},
     "output_type": "execute_result"
    }
   ],
   "source": [
    "def get_employee_details(name):\n",
    "    try:\n",
    "        # Search first or last name\n",
    "        employee = df[df[\"first_name\"].str.contains(name, case=False) | \n",
    "                   df[\"last_name\"].str.contains(name, case=False)]\n",
    "        if employee.empty:\n",
    "            raise ValueError(f\"No employee matching '{name}' found\")\n",
    "        return employee.to_dict(\"records\")[0]\n",
    "    except Exception as e:\n",
    "        print(f\"Error: {e}\")\n",
    "        return None\n",
    "\n",
    "# Test it\n",
    "get_employee_details(\"First_1\")  # Should return first worker"
   ]
  },
  {
   "cell_type": "code",
   "execution_count": 8,
   "id": "8909f7e0",
   "metadata": {},
   "outputs": [
    {
     "name": "stdout",
     "output_type": "stream",
     "text": [
      "Successfully exported First_1 to Employee_Profile.zip\n"
     ]
    },
    {
     "data": {
      "text/plain": [
       "True"
      ]
     },
     "execution_count": 8,
     "metadata": {},
     "output_type": "execute_result"
    }
   ],
   "source": [
    "import os\n",
    "import zipfile\n",
    "\n",
    "def export_employee(name):\n",
    "    try:\n",
    "        details = get_employee_details(name)\n",
    "        if not details:\n",
    "            return False\n",
    "            \n",
    "        os.makedirs(\"Employee_Profile\", exist_ok=True)\n",
    "        filename = f\"{details['first_name']}_{details['last_name']}_details.csv\"\n",
    "        filepath = f\"Employee_Profile/{filename}\"\n",
    "        \n",
    "        pd.DataFrame([details]).to_csv(filepath, index=False)\n",
    "        \n",
    "        with zipfile.ZipFile(\"Employee_Profile.zip\", \"w\") as zipf:\n",
    "            zipf.write(filepath, arcname=filename)\n",
    "        \n",
    "        print(f\"Successfully exported {name} to Employee_Profile.zip\")\n",
    "        return True\n",
    "    except Exception as e:\n",
    "        print(f\"Export failed: {e}\")\n",
    "        return False\n",
    "\n",
    "# Test export\n",
    "export_employee(\"First_1\")"
   ]
  }
 ],
 "metadata": {
  "kernelspec": {
   "display_name": "Python 3 (ipykernel)",
   "language": "python",
   "name": "python3"
  },
  "language_info": {
   "codemirror_mode": {
    "name": "ipython",
    "version": 3
   },
   "file_extension": ".py",
   "mimetype": "text/x-python",
   "name": "python",
   "nbconvert_exporter": "python",
   "pygments_lexer": "ipython3",
   "version": "3.12.3"
  }
 },
 "nbformat": 4,
 "nbformat_minor": 5
}
